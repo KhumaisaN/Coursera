{
 "cells": [
  {
   "cell_type": "markdown",
   "id": "14b6af7c",
   "metadata": {},
   "source": [
    "# My Jupyter Notebook on IBM Watson Studio"
   ]
  },
  {
   "cell_type": "markdown",
   "id": "358027c8",
   "metadata": {},
   "source": [
    "**Khumaisa Nur'aini**\n",
    "<br>Data Scientist"
   ]
  },
  {
   "cell_type": "markdown",
   "id": "dacad7a8",
   "metadata": {},
   "source": [
    "*I am interested in data science because it help people or organization to take decission from the data. Other than that, you can use data (especially unstructured data) to create a good impact for the world and environment, such us we can use twitter feed to gain sentiment analysis for a product, etc*"
   ]
  },
  {
   "cell_type": "markdown",
   "id": "cff188f0",
   "metadata": {},
   "source": [
    "I want to make a code to check whether a word is a palindrom or not. A string is said to be palindrome if the reverse of the string is the same as string. For example, “radar” is a palindrome, but “radix” is not a palindrome."
   ]
  },
  {
   "cell_type": "code",
   "execution_count": 6,
   "id": "90afbe84",
   "metadata": {},
   "outputs": [
    {
     "name": "stdout",
     "output_type": "stream",
     "text": [
      "radar is palindrom\n",
      "radix is not palindrom\n",
      "12321 is palindrom\n",
      "racecar is palindrom\n",
      "ate is not palindrom\n"
     ]
    }
   ],
   "source": [
    "def isPalindrom(s):\n",
    "    if s == s[::-1]:\n",
    "        print('{} is palindrom'.format(s))\n",
    "    else:\n",
    "        print(\"{} is not palindrom\".format(s))\n",
    "\n",
    "string = 'radar'\n",
    "isPalindrom(string)\n",
    "\n",
    "string = 'radix'\n",
    "isPalindrom(string)\n",
    "\n",
    "isPalindrom('12321')\n",
    "\n",
    "isPalindrom('racecar')\n",
    "\n",
    "isPalindrom('ate')"
   ]
  },
  {
   "cell_type": "markdown",
   "id": "d7354961",
   "metadata": {},
   "source": [
    "\n",
    ">print('Hello World!')\n",
    "\n",
    "<br><br>\n",
    "*Bulleted list*\n",
    "* one\n",
    "* two\n",
    "* three\n",
    "\n",
    "***\n",
    "\n",
    "<br><br>\n",
    "<s>Numbered list</s>\n",
    "1. one\n",
    "2. two\n",
    "3. three\n",
    "\n",
    "\n",
    "`copper will not recognize itself as copper until it turns into gold`"
   ]
  },
  {
   "cell_type": "code",
   "execution_count": null,
   "id": "3448b48a",
   "metadata": {},
   "outputs": [],
   "source": []
  },
  {
   "cell_type": "code",
   "execution_count": null,
   "id": "cd9335c0",
   "metadata": {},
   "outputs": [],
   "source": []
  },
  {
   "cell_type": "markdown",
   "id": "b993500c",
   "metadata": {},
   "source": []
  }
 ],
 "metadata": {
  "kernelspec": {
   "display_name": "Python 3.9.7 ('tfenv')",
   "language": "python",
   "name": "python3"
  },
  "language_info": {
   "codemirror_mode": {
    "name": "ipython",
    "version": 3
   },
   "file_extension": ".py",
   "mimetype": "text/x-python",
   "name": "python",
   "nbconvert_exporter": "python",
   "pygments_lexer": "ipython3",
   "version": "3.9.7"
  },
  "vscode": {
   "interpreter": {
    "hash": "3d432a04c47bf29c6558c6f0fd9bc7356166ceff03503af833aad0fba9b41cd5"
   }
  }
 },
 "nbformat": 4,
 "nbformat_minor": 5
}
